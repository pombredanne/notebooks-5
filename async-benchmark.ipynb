{
 "cells": [
  {
   "cell_type": "code",
   "execution_count": 1,
   "metadata": {
    "collapsed": true
   },
   "outputs": [],
   "source": [
    "import os\n",
    "import signal\n",
    "import gunicorn.app.base\n",
    "from multiprocessing import Process\n",
    "from contextlib import contextmanager\n",
    "\n",
    "HOST, PORT = \"127.0.0.1\", \"8080\"\n",
    "\n",
    "class BenchmarkApplication(gunicorn.app.base.BaseApplication):\n",
    "\n",
    "    def __init__(self, app, worker_class, threads):\n",
    "        self.worker_class = worker_class\n",
    "        self.threads = threads\n",
    "        self.application = app\n",
    "        super().__init__()\n",
    "\n",
    "    def load_config(self):\n",
    "        self.cfg.set(\"bind\", f\"{HOST}:{PORT}\")\n",
    "        self.cfg.set(\"workers\", 2)\n",
    "        self.cfg.set(\"worker_class\", self.worker_class)\n",
    "        self.cfg.set(\"threads\", self.threads)\n",
    "        \n",
    "    def load(self):\n",
    "        return self.application\n",
    "\n",
    "def run(app_func, worker, threads):\n",
    "    app = app_func()\n",
    "    BenchmarkApplication(app, worker, threads).run()\n",
    "    \n",
    "@contextmanager\n",
    "def app_running(app_func, worker, threads=1):\n",
    "    p = Process(target=lambda: run(app_func, worker, threads))\n",
    "    p.start()\n",
    "    time.sleep(1)\n",
    "    print(\"allowed sleep\")\n",
    "    yield \n",
    "    os.kill(p.pid, signal.SIGINT)\n",
    "    print(\"kill sent\")\n",
    "    p.join(timeout=5)"
   ]
  },
  {
   "cell_type": "code",
   "execution_count": 4,
   "metadata": {
    "collapsed": true
   },
   "outputs": [],
   "source": [
    "%matplotlib inline\n",
    "import time\n",
    "from multiprocessing import Process\n",
    "\n",
    "class Stats:\n",
    "    def __init__(self):\n",
    "        self.request_latencies = []\n",
    "        self.timed_out = 0\n",
    "        self.elapsed_time = 0\n",
    "\n",
    "async def fetch(stats, session, url):\n",
    "    start_time = time.time()\n",
    "    try:\n",
    "        async with session.get(url) as response:\n",
    "            await response.text()\n",
    "    except:\n",
    "        stats.timed_out += 1\n",
    "    else:\n",
    "        elapsed_time = time.time() - start_time\n",
    "        stats.request_latencies.append(elapsed_time)\n",
    "\n",
    "import aiohttp\n",
    "TOTAL_COUNT = 5000\n",
    "MAX_CONNECTIONS = 200\n",
    "\n",
    "async def benchmark(root=\"http://localhost:8080/\"):\n",
    "    url = root + \"foo\"\n",
    "    stats = Stats()\n",
    "    start_time = time.time()\n",
    "    conn = aiohttp.TCPConnector(limit=MAX_CONNECTIONS)\n",
    "    async with aiohttp.ClientSession(connector=conn) as session:\n",
    "        task_list = []\n",
    "        for i in range(TOTAL_COUNT):\n",
    "            task_list.append(fetch(stats, session, url))\n",
    "        await asyncio.gather(*task_list)\n",
    "    elapsed_time = time.time() - start_time\n",
    "    stats.elapsed_time = elapsed_time\n",
    "    return stats"
   ]
  },
  {
   "cell_type": "code",
   "execution_count": null,
   "metadata": {},
   "outputs": [
    {
     "name": "stderr",
     "output_type": "stream",
     "text": [
      "[2017-07-05 21:41:30 -0700] [7641] [INFO] Starting gunicorn 19.7.1\n",
      "[2017-07-05 21:41:30 -0700] [7641] [INFO] Listening at: http://127.0.0.1:8080 (7641)\n",
      "[2017-07-05 21:41:30 -0700] [7641] [INFO] Using worker: aiohttp.worker.GunicornWebWorker\n",
      "[2017-07-05 21:41:30 -0700] [7642] [INFO] Booting worker with pid: 7642\n",
      "[2017-07-05 21:41:30 -0700] [7643] [INFO] Booting worker with pid: 7643\n"
     ]
    },
    {
     "name": "stdout",
     "output_type": "stream",
     "text": [
      "allowed sleep\n"
     ]
    }
   ],
   "source": [
    "from aiohttp import web\n",
    "import asyncio\n",
    "\n",
    "def create_aiohttp_app():\n",
    "    loop = asyncio.new_event_loop()\n",
    "    asyncio.set_event_loop(loop)\n",
    "\n",
    "    async def handle(request):\n",
    "        name = request.match_info.get('name', \"Anonymous\")\n",
    "        await asyncio.sleep(0.1)\n",
    "        text = \"Hello, \" + name\n",
    "        return web.Response(text=text)\n",
    "\n",
    "    aiohttp_app = web.Application()\n",
    "    aiohttp_app.router.add_get('/', handle)\n",
    "    aiohttp_app.router.add_get('/{name}', handle)\n",
    "    return aiohttp_app\n",
    "    \n",
    "import asyncio\n",
    "loop = asyncio.get_event_loop()\n",
    "with app_running(create_aiohttp_app, \"aiohttp.worker.GunicornWebWorker\"):\n",
    "     stats = loop.run_until_complete(benchmark())\n",
    "    \n",
    "import matplotlib.pyplot as plt\n",
    "\n",
    "print(stats.elapsed_time)\n",
    "plt.hist(stats.request_latencies, bins=100)"
   ]
  },
  {
   "cell_type": "code",
   "execution_count": 3,
   "metadata": {},
   "outputs": [
    {
     "name": "stderr",
     "output_type": "stream",
     "text": [
      "[2017-07-05 21:40:45 -0700] [7625] [INFO] Starting gunicorn 19.7.1\n",
      "[2017-07-05 21:40:45 -0700] [7625] [INFO] Listening at: http://127.0.0.1:8080 (7625)\n",
      "[2017-07-05 21:40:45 -0700] [7625] [INFO] Using worker: threads\n",
      "[2017-07-05 21:40:45 -0700] [7626] [INFO] Booting worker with pid: 7626\n",
      "[2017-07-05 21:40:45 -0700] [7629] [INFO] Booting worker with pid: 7629\n"
     ]
    },
    {
     "name": "stdout",
     "output_type": "stream",
     "text": [
      "allowed sleep\n"
     ]
    },
    {
     "name": "stderr",
     "output_type": "stream",
     "text": [
      "[2017-07-05 21:41:04 -0700] [7625] [INFO] Handling signal: int\n",
      "[2017-07-05 21:41:04 -0700] [7626] [INFO] Worker exiting (pid: 7626)\n",
      "[2017-07-05 21:41:04 -0700] [7629] [INFO] Worker exiting (pid: 7629)\n"
     ]
    },
    {
     "name": "stdout",
     "output_type": "stream",
     "text": [
      "kill sent\n"
     ]
    },
    {
     "name": "stderr",
     "output_type": "stream",
     "text": [
      "[2017-07-05 21:41:04 -0700] [7625] [INFO] Shutting down: Master\n"
     ]
    },
    {
     "name": "stdout",
     "output_type": "stream",
     "text": [
      "18.032105922698975\n"
     ]
    },
    {
     "data": {
      "text/plain": [
       "(array([ 40.,  40.,  40.,  23.,  37.,  40.,  32.,  28.,  40.,  40.,  22.,\n",
       "         38.,  36.,  19.,  22.,  23.,  17.,  11.,  11.,   7.,   8.,   8.,\n",
       "          7.,   5.,   8.,   7.,   5.,   8.,   7.,   6.,   7.,   8.,   5.,\n",
       "          7.,   8.,   6.,   9.,   5.,   5.,   5.,   4.,   6.,   5.,   4.,\n",
       "          6.,   5.,   4.,   6.,   4.,   5.,   6.,   4.,   5.,   6.,   4.,\n",
       "          5.,   6.,   5.,   5.,   5.,   4.,   6.,   5.,   4.,   6.,   5.,\n",
       "          4.,   6.,   5.,   4.,   6.,   5.,   5.,   5.,   5.,   5.,   5.,\n",
       "          5.,   5.,   5.,   5.,   5.,   5.,   5.,   5.,   5.,   5.,   5.,\n",
       "          5.,   5.,   5.,   5.,   5.,   4.,   6.,   5.,   5.,   5.,   5.,\n",
       "          5.]), array([  0.42265677,   0.59651399,   0.7703712 ,   0.94422842,\n",
       "          1.11808563,   1.29194285,   1.46580006,   1.63965728,\n",
       "          1.81351449,   1.9873717 ,   2.16122892,   2.33508613,\n",
       "          2.50894335,   2.68280056,   2.85665778,   3.03051499,\n",
       "          3.20437221,   3.37822942,   3.55208663,   3.72594385,\n",
       "          3.89980106,   4.07365828,   4.24751549,   4.42137271,\n",
       "          4.59522992,   4.76908714,   4.94294435,   5.11680156,\n",
       "          5.29065878,   5.46451599,   5.63837321,   5.81223042,\n",
       "          5.98608764,   6.15994485,   6.33380207,   6.50765928,\n",
       "          6.68151649,   6.85537371,   7.02923092,   7.20308814,\n",
       "          7.37694535,   7.55080257,   7.72465978,   7.898517  ,\n",
       "          8.07237421,   8.24623142,   8.42008864,   8.59394585,\n",
       "          8.76780307,   8.94166028,   9.1155175 ,   9.28937471,\n",
       "          9.46323193,   9.63708914,   9.81094635,   9.98480357,\n",
       "         10.15866078,  10.332518  ,  10.50637521,  10.68023243,\n",
       "         10.85408964,  11.02794686,  11.20180407,  11.37566128,\n",
       "         11.5495185 ,  11.72337571,  11.89723293,  12.07109014,\n",
       "         12.24494736,  12.41880457,  12.59266179,  12.766519  ,\n",
       "         12.94037621,  13.11423343,  13.28809064,  13.46194786,\n",
       "         13.63580507,  13.80966229,  13.9835195 ,  14.15737672,\n",
       "         14.33123393,  14.50509115,  14.67894836,  14.85280557,\n",
       "         15.02666279,  15.20052   ,  15.37437722,  15.54823443,\n",
       "         15.72209165,  15.89594886,  16.06980608,  16.24366329,\n",
       "         16.4175205 ,  16.59137772,  16.76523493,  16.93909215,\n",
       "         17.11294936,  17.28680658,  17.46066379,  17.63452101,  17.80837822]), <a list of 100 Patch objects>)"
      ]
     },
     "execution_count": 3,
     "metadata": {},
     "output_type": "execute_result"
    },
    {
     "data": {
      "image/png": "[encoded data removed]",
      "text/plain": [
       "<matplotlib.figure.Figure at 0x10d6d3710>"
      ]
     },
     "metadata": {},
     "output_type": "display_data"
    }
   ],
   "source": [
    "from flask import Flask\n",
    "flask_app = Flask(__name__)\n",
    "import time\n",
    "\n",
    "@flask_app.route(\"/<name>\")\n",
    "def hello(name):\n",
    "    time.sleep(0.1)\n",
    "    return \"Hello World!\"\n",
    "\n",
    "import asyncio\n",
    "loop = asyncio.get_event_loop()\n",
    "with app_running(lambda: flask_app, \"sync\", threads=10):\n",
    "    stats = loop.run_until_complete(benchmark())\n",
    "    \n",
    "import matplotlib.pyplot as plt\n",
    "\n",
    "print(stats.elapsed_time)\n",
    "plt.hist(stats.request_latencies, bins=100)"
   ]
  },
  {
   "cell_type": "code",
   "execution_count": null,
   "metadata": {
    "collapsed": true
   },
   "outputs": [],
   "source": []
  }
 ],
 "metadata": {
  "kernelspec": {
   "display_name": "Python 3",
   "language": "python",
   "name": "python3"
  },
  "language_info": {
   "codemirror_mode": {
    "name": "ipython",
    "version": 3
   },
   "file_extension": ".py",
   "mimetype": "text/x-python",
   "name": "python",
   "nbconvert_exporter": "python",
   "pygments_lexer": "ipython3",
   "version": "3.6.1"
  }
 },
 "nbformat": 4,
 "nbformat_minor": 2
}
