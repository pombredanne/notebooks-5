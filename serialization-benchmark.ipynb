{
 "cells": [
  {
   "cell_type": "markdown",
   "metadata": {},
   "source": [
    "# Serializer showdown\n",
    "\n",
    "A simple benchmark on the performance of various serializers.\n",
    "\n",
    "As with all benchmarks, it is a decent indictator for your use case, but not a definite one. Benchmark your use case (fork this repo if you want!) and verify yourself before acting on these results."
   ]
  },
  {
   "cell_type": "code",
   "execution_count": 2,
   "metadata": {
    "scrolled": true
   },
   "outputs": [
    {
     "name": "stdout",
     "output_type": "stream",
     "text": [
      "library                execution_time (seconds)    iterations\n",
      "-------------------  --------------------------  ------------\n",
      "schematics                           1.67589            10000\n",
      "marshmallow                          0.322552           10000\n",
      "attrs                                0.0243888          10000\n",
      "pydantic                             0.0982409          10000\n",
      "class                                0.00822067         10000\n",
      "class_no_validation                  0.00591969         10000\n",
      "cattrs                               0.0697694          10000\n"
     ]
    }
   ],
   "source": [
    "import attr\n",
    "import time\n",
    "import pprint\n",
    "import pydantic\n",
    "from schematics.models import Model\n",
    "from schematics.types import StringType, IntType\n",
    "from marshmallow import Schema, fields\n",
    "from tabulate import tabulate\n",
    "from pydantic import BaseModel\n",
    "from cattr import structure, unstructure\n",
    "\n",
    "\n",
    "\n",
    "@attr.s\n",
    "class PersonAttrs:\n",
    "    name = attr.ib(validator=[\n",
    "        attr.validators.instance_of(str)\n",
    "    ])\n",
    "    age = attr.ib(validator=[\n",
    "        attr.validators.instance_of(int)\n",
    "    ])\n",
    "    \n",
    "class PersonClass:\n",
    "    def __init__(self, name, age):\n",
    "        if not isinstance(name, str):\n",
    "            raise ValueError(\"name is not a string\")\n",
    "        if not isinstance(age, int):\n",
    "            raise ValueError(\"age is not an integer\")\n",
    "        self.name = name\n",
    "        self.age = age    \n",
    "        \n",
    "        \n",
    "class PersonClassRaw:\n",
    "    def __init__(self, name, age):\n",
    "        self.name = name\n",
    "        self.age = age\n",
    "        \n",
    "\n",
    "class PersonSchematics(Model):\n",
    "    name = StringType()\n",
    "    age = IntType()\n",
    "\n",
    "\n",
    "class PersonMarshmallow(Schema):\n",
    "    name = fields.Str()\n",
    "    age = fields.Int()\n",
    "\n",
    "    \n",
    "class PersonPydantic(BaseModel):\n",
    "    name: str = ...\n",
    "    age: int = ...\n",
    "\n",
    "marshmallow_schema = PersonMarshmallow()\n",
    "\n",
    "target = {\"name\": \"Mario Luigi\", \"age\": 32}\n",
    "\n",
    "TRIALS = 10000\n",
    "\n",
    "\n",
    "def benchmark(name, func):\n",
    "    start_time = time.time()\n",
    "    for i in range(TRIALS):\n",
    "        func()\n",
    "    elapsed_time = time.time() - start_time\n",
    "    return [name, elapsed_time, TRIALS]\n",
    "\n",
    "data = [[\"library\", \"execution_time (seconds)\", \"iterations\"]]\n",
    "data.append(benchmark(\"schematics\", lambda: PersonSchematics(target).validate()))\n",
    "data.append(benchmark(\"marshmallow\", lambda: marshmallow_schema.dump(target)))\n",
    "data.append(benchmark(\"attrs\", lambda: PersonAttrs(**target)))\n",
    "data.append(benchmark(\"pydantic\", lambda: PersonPydantic(**target)))\n",
    "data.append(benchmark(\"class\", lambda: PersonClass(**target)))\n",
    "data.append(benchmark(\"class_no_validation\", lambda: PersonClassRaw(**target)))\n",
    "data.append(benchmark(\"cattrs\", lambda: structure(target, PersonAttrs)))\n",
    "\n",
    "\n",
    "print(tabulate(data, headers=\"firstrow\"))"
   ]
  }
 ],
 "metadata": {
  "kernelspec": {
   "display_name": "Python 3",
   "language": "python",
   "name": "python3"
  },
  "language_info": {
   "codemirror_mode": {
    "name": "ipython",
    "version": 3
   },
   "file_extension": ".py",
   "mimetype": "text/x-python",
   "name": "python",
   "nbconvert_exporter": "python",
   "pygments_lexer": "ipython3",
   "version": "3.6.1"
  }
 },
 "nbformat": 4,
 "nbformat_minor": 2
}
