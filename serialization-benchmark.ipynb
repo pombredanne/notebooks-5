{
 "cells": [
  {
   "cell_type": "code",
   "execution_count": 6,
   "metadata": {},
   "outputs": [
    {
     "name": "stdout",
     "output_type": "stream",
     "text": [
      "[['schematics', 1.3649110794067383, 10000],\n",
      " ['marshmallow', 0.23163890838623047, 10000],\n",
      " ['attrs', 0.024604082107543945, 10000]]\n"
     ]
    }
   ],
   "source": [
    "import attr\n",
    "import time\n",
    "import pprint\n",
    "from schematics.models import Model\n",
    "from schematics.types import StringType, IntType\n",
    "from marshmallow import Schema, fields\n",
    "\n",
    "\n",
    "@attr.s\n",
    "class PersonAttrs:\n",
    "    name = attr.ib(validator=[\n",
    "        attr.validators.instance_of(str)\n",
    "    ])\n",
    "    age = attr.ib(validator=[\n",
    "        attr.validators.instance_of(int)\n",
    "    ])\n",
    "\n",
    "\n",
    "class PersonSchematics(Model):\n",
    "    name = StringType()\n",
    "    age = IntType()\n",
    "\n",
    "\n",
    "class PersonMarshmallow(Schema):\n",
    "    name = fields.Str()\n",
    "    age = fields.Int()\n",
    "\n",
    "marshmallow_schema = PersonMarshmallow()\n",
    "\n",
    "target = {\"name\": \"Mario Luigi\", \"age\": 32}\n",
    "\n",
    "TRIALS = 10000\n",
    "\n",
    "\n",
    "def benchmark(name, func):\n",
    "    start_time = time.time()\n",
    "    for i in range(TRIALS):\n",
    "        func()\n",
    "    elapsed_time = time.time() - start_time\n",
    "    return [name, elapsed_time, TRIALS]\n",
    "\n",
    "data = []\n",
    "data.append(benchmark(\"schematics\", lambda: PersonSchematics(target).validate()))\n",
    "data.append(benchmark(\"marshmallow\", lambda: marshmallow_schema.dump(target)))\n",
    "data.append(benchmark(\"attrs\", lambda: PersonAttrs(**target)))\n",
    "\n",
    "pprint.pprint(data)"
   ]
  }
 ],
 "metadata": {
  "kernelspec": {
   "display_name": "Python 3",
   "language": "python",
   "name": "python3"
  },
  "language_info": {
   "codemirror_mode": {
    "name": "ipython",
    "version": 3
   },
   "file_extension": ".py",
   "mimetype": "text/x-python",
   "name": "python",
   "nbconvert_exporter": "python",
   "pygments_lexer": "ipython3",
   "version": "3.6.1"
  }
 },
 "nbformat": 4,
 "nbformat_minor": 2
}
